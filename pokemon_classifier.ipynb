{
  "nbformat": 4,
  "nbformat_minor": 0,
  "metadata": {
    "colab": {
      "name": "pokemon_classifier.ipynb",
      "provenance": [],
      "include_colab_link": true
    },
    "kernelspec": {
      "name": "python3",
      "display_name": "Python 3"
    },
    "accelerator": "GPU"
  },
  "cells": [
    {
      "cell_type": "markdown",
      "metadata": {
        "id": "view-in-github",
        "colab_type": "text"
      },
      "source": [
        "<a href=\"https://colab.research.google.com/github/rishigarg0709/Data-Science/blob/master/pokemon_classifier.ipynb\" target=\"_parent\"><img src=\"https://colab.research.google.com/assets/colab-badge.svg\" alt=\"Open In Colab\"/></a>"
      ]
    },
    {
      "cell_type": "code",
      "metadata": {
        "id": "FhgZbmDG8NZJ",
        "colab_type": "code",
        "colab": {
          "resources": {
            "http://localhost:8080/nbextensions/google.colab/files.js": {
              "data": "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",
              "ok": true,
              "headers": [
                [
                  "content-type",
                  "application/javascript"
                ]
              ],
              "status": 200,
              "status_text": ""
            }
          },
          "base_uri": "https://localhost:8080/",
          "height": 210
        },
        "outputId": "2795c9fa-58ce-4c27-d396-be33b47f98d2"
      },
      "source": [
        "from google.colab import files\n",
        "file=files.upload()"
      ],
      "execution_count": 4,
      "outputs": [
        {
          "output_type": "display_data",
          "data": {
            "text/html": [
              "\n",
              "     <input type=\"file\" id=\"files-c0ef8823-6899-4e42-a8da-09778d1a9dbf\" name=\"files[]\" multiple disabled />\n",
              "     <output id=\"result-c0ef8823-6899-4e42-a8da-09778d1a9dbf\">\n",
              "      Upload widget is only available when the cell has been executed in the\n",
              "      current browser session. Please rerun this cell to enable.\n",
              "      </output>\n",
              "      <script src=\"/nbextensions/google.colab/files.js\"></script> "
            ],
            "text/plain": [
              "<IPython.core.display.HTML object>"
            ]
          },
          "metadata": {
            "tags": []
          }
        },
        {
          "output_type": "stream",
          "text": [
            "Saving Images.zip to Images.zip\n",
            "Saving Images_test.zip to Images_test.zip\n",
            "Saving Sample_submission.csv to Sample_submission.csv\n",
            "Saving test.csv to test.csv\n",
            "Saving train.csv to train.csv\n"
          ],
          "name": "stdout"
        }
      ]
    },
    {
      "cell_type": "code",
      "metadata": {
        "id": "YjfxHkaA8Z7D",
        "colab_type": "code",
        "colab": {}
      },
      "source": [
        "from keras.layers import *\n",
        "from keras.models import Sequential\n",
        "from keras.utils import to_categorical\n",
        "from keras.preprocessing import image"
      ],
      "execution_count": 0,
      "outputs": []
    },
    {
      "cell_type": "code",
      "metadata": {
        "id": "_ugc4W2cCTub",
        "colab_type": "code",
        "colab": {
          "base_uri": "https://localhost:8080/",
          "height": 1000
        },
        "outputId": "922e51ab-bd75-4426-a4aa-f8517a827268"
      },
      "source": [
        "!unzip Images.zip"
      ],
      "execution_count": 10,
      "outputs": [
        {
          "output_type": "stream",
          "text": [
            "Archive:  Images.zip\n",
            "  inflating: Images/296.jpg          \n",
            "  inflating: Images/297.jpg          \n",
            "  inflating: Images/298.jpg          \n",
            "  inflating: Images/299.jpg          \n",
            "  inflating: Images/300.jpg          \n",
            "  inflating: Images/301.jpg          \n",
            "  inflating: Images/302.jpg          \n",
            "  inflating: Images/303.jpg          \n",
            "  inflating: Images/304.jpg          \n",
            "  inflating: Images/305.jpg          \n",
            "  inflating: Images/306.jpg          \n",
            "  inflating: Images/307.jpg          \n",
            "  inflating: Images/308.jpg          \n",
            "  inflating: Images/309.jpg          \n",
            "  inflating: Images/310.jpg          \n",
            "  inflating: Images/311.jpg          \n",
            "  inflating: Images/312.jpg          \n",
            "  inflating: Images/313.jpg          \n",
            "  inflating: Images/314.jpg          \n",
            "  inflating: Images/315.jpg          \n",
            "  inflating: Images/316.jpg          \n",
            "  inflating: Images/317.jpg          \n",
            "  inflating: Images/318.jpg          \n",
            "  inflating: Images/319.jpg          \n",
            "  inflating: Images/320.jpg          \n",
            "  inflating: Images/321.jpg          \n",
            "  inflating: Images/322.jpg          \n",
            "  inflating: Images/323.jpg          \n",
            "  inflating: Images/324.jpg          \n",
            "  inflating: Images/325.jpg          \n",
            "  inflating: Images/326.jpg          \n",
            "  inflating: Images/327.jpg          \n",
            "  inflating: Images/328.jpg          \n",
            "  inflating: Images/329.jpg          \n",
            "  inflating: Images/330.jpg          \n",
            "  inflating: Images/331.jpg          \n",
            "  inflating: Images/332.jpg          \n",
            "  inflating: Images/333.jpg          \n",
            "  inflating: Images/334.jpg          \n",
            "  inflating: Images/335.jpg          \n",
            "  inflating: Images/336.jpg          \n",
            "  inflating: Images/337.jpg          \n",
            "  inflating: Images/338.jpg          \n",
            "  inflating: Images/339.jpg          \n",
            "  inflating: Images/340.jpg          \n",
            "  inflating: Images/341.jpg          \n",
            "  inflating: Images/342.jpg          \n",
            "  inflating: Images/343.jpg          \n",
            "  inflating: Images/344.jpg          \n",
            "  inflating: Images/345.jpg          \n",
            "  inflating: Images/346.jpg          \n",
            "  inflating: Images/347.jpg          \n",
            "  inflating: Images/348.jpg          \n",
            "  inflating: Images/349.jpg          \n",
            "  inflating: Images/350.jpg          \n",
            "  inflating: Images/351.jpg          \n",
            "  inflating: Images/352.jpg          \n",
            "  inflating: Images/353.jpg          \n",
            "  inflating: Images/354.jpg          \n",
            "  inflating: Images/355.jpg          \n",
            "  inflating: Images/356.jpg          \n",
            "  inflating: Images/357.jpg          \n",
            "  inflating: Images/358.jpg          \n",
            "  inflating: Images/359.jpg          \n",
            "  inflating: Images/360.jpg          \n",
            "  inflating: Images/361.jpg          \n",
            "  inflating: Images/362.jpg          \n",
            "  inflating: Images/363.jpg          \n",
            "  inflating: Images/364.jpg          \n",
            "  inflating: Images/365.jpg          \n",
            "  inflating: Images/366.jpg          \n",
            "  inflating: Images/367.jpg          \n",
            "  inflating: Images/368.jpg          \n",
            "  inflating: Images/369.jpg          \n",
            "  inflating: Images/370.jpg          \n",
            "  inflating: Images/371.jpg          \n",
            "  inflating: Images/372.jpg          \n",
            "  inflating: Images/373.jpg          \n",
            "  inflating: Images/374.jpg          \n",
            "  inflating: Images/375.jpg          \n",
            "  inflating: Images/376.jpg          \n",
            "  inflating: Images/377.jpg          \n",
            "  inflating: Images/378.jpg          \n",
            "  inflating: Images/379.jpg          \n",
            "  inflating: Images/380.jpg          \n",
            "  inflating: Images/381.jpg          \n",
            "  inflating: Images/382.jpg          \n",
            "  inflating: Images/383.jpg          \n",
            "  inflating: Images/384.jpg          \n",
            "  inflating: Images/385.jpg          \n",
            "  inflating: Images/386.jpg          \n",
            "  inflating: Images/387.jpg          \n",
            "  inflating: Images/388.jpg          \n",
            "  inflating: Images/389.jpg          \n",
            "  inflating: Images/390.jpg          \n",
            "  inflating: Images/391.jpg          \n",
            "  inflating: Images/392.jpg          \n",
            "  inflating: Images/393.jpg          \n",
            "  inflating: Images/394.jpg          \n",
            "  inflating: Images/395.jpg          \n",
            "  inflating: Images/396.jpg          \n",
            "  inflating: Images/397.jpg          \n",
            "  inflating: Images/398.jpg          \n",
            "  inflating: Images/399.jpg          \n",
            "  inflating: Images/400.jpg          \n",
            "  inflating: Images/401.jpg          \n",
            "  inflating: Images/402.jpg          \n",
            "  inflating: Images/403.jpg          \n",
            "  inflating: Images/404.jpg          \n",
            "  inflating: Images/405.jpg          \n",
            "  inflating: Images/406.jpg          \n",
            "  inflating: Images/407.jpg          \n",
            "  inflating: Images/408.jpg          \n",
            "  inflating: Images/409.jpg          \n",
            "  inflating: Images/410.jpg          \n",
            "  inflating: Images/411.jpg          \n",
            "  inflating: Images/412.jpg          \n",
            "  inflating: Images/413.jpg          \n",
            "  inflating: Images/414.jpg          \n",
            "  inflating: Images/415.jpg          \n",
            "  inflating: Images/416.jpg          \n",
            "  inflating: Images/417.jpg          \n",
            "  inflating: Images/418.jpg          \n",
            "  inflating: Images/419.jpg          \n",
            "  inflating: Images/420.jpg          \n",
            "  inflating: Images/421.jpg          \n",
            "  inflating: Images/422.jpg          \n",
            "  inflating: Images/423.jpg          \n",
            "  inflating: Images/424.jpg          \n",
            "  inflating: Images/425.jpg          \n",
            "  inflating: Images/426.jpg          \n",
            "  inflating: Images/427.jpg          \n",
            "  inflating: Images/428.jpg          \n",
            "  inflating: Images/429.jpg          \n",
            "  inflating: Images/430.jpg          \n",
            "  inflating: Images/431.jpg          \n",
            "  inflating: Images/432.jpg          \n",
            "  inflating: Images/433.jpg          \n",
            "  inflating: Images/434.jpg          \n",
            "  inflating: Images/435.jpg          \n",
            "  inflating: Images/436.jpg          \n",
            "  inflating: Images/437.jpg          \n",
            "  inflating: Images/438.jpg          \n",
            "  inflating: Images/439.jpg          \n",
            "  inflating: Images/440.jpg          \n",
            "  inflating: Images/441.jpg          \n",
            "  inflating: Images/442.jpg          \n",
            "  inflating: Images/443.jpg          \n",
            "  inflating: Images/444.jpg          \n",
            "  inflating: Images/445.jpg          \n",
            "  inflating: Images/446.jpg          \n",
            "  inflating: Images/447.jpg          \n",
            "  inflating: Images/448.jpg          \n",
            "  inflating: Images/449.jpg          \n",
            "  inflating: Images/450.jpg          \n",
            "  inflating: Images/451.jpg          \n",
            "  inflating: Images/452.jpg          \n",
            "  inflating: Images/453.jpg          \n",
            "  inflating: Images/454.jpg          \n",
            "  inflating: Images/455.jpg          \n",
            "  inflating: Images/456.jpg          \n",
            "  inflating: Images/457.jpg          \n",
            "  inflating: Images/458.jpg          \n",
            "  inflating: Images/459.jpg          \n",
            "  inflating: Images/460.jpg          \n",
            "  inflating: Images/461.jpg          \n",
            "  inflating: Images/462.jpg          \n",
            "  inflating: Images/463.jpg          \n",
            "  inflating: Images/464.jpg          \n",
            "  inflating: Images/465.jpg          \n",
            "  inflating: Images/466.jpg          \n",
            "  inflating: Images/467.jpg          \n",
            "  inflating: Images/468.jpg          \n",
            "  inflating: Images/469.jpg          \n",
            "  inflating: Images/470.jpg          \n",
            "  inflating: Images/471.jpg          \n",
            "  inflating: Images/472.jpg          \n",
            "  inflating: Images/473.jpg          \n",
            "  inflating: Images/474.jpg          \n",
            "  inflating: Images/475.jpg          \n",
            "  inflating: Images/476.jpg          \n",
            "  inflating: Images/477.jpg          \n",
            "  inflating: Images/478.jpg          \n",
            "  inflating: Images/479.jpg          \n",
            "  inflating: Images/480.jpg          \n",
            "  inflating: Images/481.jpg          \n",
            "  inflating: Images/482.jpg          \n",
            "  inflating: Images/483.jpg          \n",
            "  inflating: Images/484.jpg          \n",
            "  inflating: Images/485.jpg          \n",
            "  inflating: Images/486.jpg          \n",
            "  inflating: Images/487.jpg          \n",
            "  inflating: Images/488.jpg          \n",
            "  inflating: Images/489.jpg          \n",
            "  inflating: Images/490.jpg          \n",
            "  inflating: Images/491.jpg          \n",
            "  inflating: Images/492.jpg          \n",
            "  inflating: Images/493.jpg          \n",
            "  inflating: Images/494.jpg          \n",
            "  inflating: Images/495.jpg          \n",
            "  inflating: Images/496.jpg          \n",
            "  inflating: Images/497.jpg          \n",
            "  inflating: Images/498.jpg          \n",
            "  inflating: Images/520.jpg          \n",
            "  inflating: Images/521.jpg          \n",
            "  inflating: Images/522.jpg          \n",
            "  inflating: Images/523.jpg          \n",
            "  inflating: Images/524.jpg          \n",
            "  inflating: Images/525.jpg          \n",
            "  inflating: Images/526.jpg          \n",
            "  inflating: Images/527.jpg          \n",
            "  inflating: Images/528.jpg          \n",
            "  inflating: Images/529.jpg          \n",
            "  inflating: Images/530.jpg          \n",
            "  inflating: Images/531.jpg          \n",
            "  inflating: Images/532.jpg          \n",
            "  inflating: Images/533.jpg          \n",
            "  inflating: Images/534.jpg          \n",
            "  inflating: Images/535.jpg          \n",
            "  inflating: Images/536.jpg          \n",
            "  inflating: Images/537.jpg          \n",
            "  inflating: Images/538.jpg          \n",
            "  inflating: Images/539.jpg          \n",
            "  inflating: Images/540.jpg          \n",
            "  inflating: Images/541.jpg          \n",
            "  inflating: Images/542.jpg          \n",
            "  inflating: Images/543.jpg          \n",
            "  inflating: Images/544.jpg          \n",
            "  inflating: Images/545.jpg          \n",
            "  inflating: Images/546.jpg          \n",
            "  inflating: Images/547.jpg          \n",
            "  inflating: Images/548.jpg          \n",
            "  inflating: Images/549.jpg          \n",
            "  inflating: Images/550.jpg          \n",
            "  inflating: Images/551.jpg          \n",
            "  inflating: Images/552.jpg          \n",
            "  inflating: Images/553.jpg          \n",
            "  inflating: Images/554.jpg          \n",
            "  inflating: Images/555.jpg          \n",
            "  inflating: Images/556.jpg          \n",
            "  inflating: Images/557.jpg          \n",
            "  inflating: Images/558.jpg          \n",
            "  inflating: Images/559.jpg          \n",
            "  inflating: Images/560.jpg          \n",
            "  inflating: Images/561.jpg          \n",
            "  inflating: Images/562.jpg          \n",
            "  inflating: Images/563.jpg          \n",
            "  inflating: Images/564.jpg          \n",
            "  inflating: Images/565.jpg          \n",
            "  inflating: Images/566.jpg          \n",
            "  inflating: Images/567.jpg          \n",
            "  inflating: Images/568.jpg          \n",
            "  inflating: Images/569.jpg          \n",
            "  inflating: Images/570.jpg          \n",
            "  inflating: Images/571.jpg          \n",
            "  inflating: Images/572.jpg          \n",
            "  inflating: Images/573.jpg          \n",
            "  inflating: Images/574.jpg          \n",
            "  inflating: Images/575.jpg          \n",
            "  inflating: Images/576.jpg          \n",
            "  inflating: Images/577.jpg          \n",
            "  inflating: Images/578.jpg          \n",
            "  inflating: Images/579.jpg          \n",
            "  inflating: Images/580.jpg          \n",
            "  inflating: Images/581.jpg          \n",
            "  inflating: Images/582.jpg          \n",
            "  inflating: Images/583.jpg          \n",
            "  inflating: Images/584.jpg          \n",
            "  inflating: Images/585.jpg          \n",
            "  inflating: Images/586.jpg          \n",
            "  inflating: Images/587.jpg          \n",
            "  inflating: Images/588.jpg          \n",
            "  inflating: Images/589.jpg          \n",
            "  inflating: Images/590.jpg          \n",
            "  inflating: Images/591.jpg          \n",
            "  inflating: Images/592.jpg          \n",
            "  inflating: Images/593.jpg          \n",
            "  inflating: Images/594.jpg          \n",
            "  inflating: Images/595.jpg          \n",
            "  inflating: Images/596.jpg          \n",
            "  inflating: Images/597.jpg          \n",
            "  inflating: Images/598.jpg          \n",
            "  inflating: Images/599.jpg          \n",
            "  inflating: Images/600.jpg          \n",
            "  inflating: Images/601.jpg          \n",
            "  inflating: Images/602.jpg          \n",
            "  inflating: Images/603.jpg          \n",
            "  inflating: Images/604.jpg          \n",
            "  inflating: Images/605.jpg          \n",
            "  inflating: Images/606.jpg          \n",
            "  inflating: Images/607.jpg          \n",
            "  inflating: Images/608.jpg          \n",
            "  inflating: Images/609.jpg          \n",
            "  inflating: Images/610.jpg          \n",
            "  inflating: Images/611.jpg          \n",
            "  inflating: Images/612.jpg          \n",
            "  inflating: Images/613.jpg          \n",
            "  inflating: Images/614.jpg          \n",
            "  inflating: Images/615.jpg          \n",
            "  inflating: Images/616.jpg          \n",
            "  inflating: Images/617.jpg          \n",
            "  inflating: Images/618.jpg          \n",
            "  inflating: Images/619.jpg          \n",
            "  inflating: Images/620.jpg          \n"
          ],
          "name": "stdout"
        }
      ]
    },
    {
      "cell_type": "code",
      "metadata": {
        "id": "9sMhJhJ4Cad2",
        "colab_type": "code",
        "colab": {
          "base_uri": "https://localhost:8080/",
          "height": 1000
        },
        "outputId": "cded16ed-a6bd-4124-9ca8-7f9f9180cfd9"
      },
      "source": [
        "!unzip Images_test.zip"
      ],
      "execution_count": 12,
      "outputs": [
        {
          "output_type": "stream",
          "text": [
            "Archive:  Images_test.zip\n",
            "  inflating: Images_test/1100.jpg    \n",
            "  inflating: Images_test/1101.jpg    \n",
            "  inflating: Images_test/1102.jpg    \n",
            "  inflating: Images_test/1103.jpg    \n",
            "  inflating: Images_test/1104.jpg    \n",
            "  inflating: Images_test/1105.jpg    \n",
            "  inflating: Images_test/1106.jpg    \n",
            "  inflating: Images_test/1107.jpg    \n",
            "  inflating: Images_test/1108.jpg    \n",
            "  inflating: Images_test/1109.jpg    \n",
            "  inflating: Images_test/1110.jpg    \n",
            "  inflating: Images_test/1111.jpg    \n",
            "  inflating: Images_test/1112.jpg    \n",
            "  inflating: Images_test/1113.jpg    \n",
            "  inflating: Images_test/1114.jpg    \n",
            "  inflating: Images_test/1115.jpg    \n",
            "  inflating: Images_test/1116.jpg    \n",
            "  inflating: Images_test/1117.jpg    \n",
            "  inflating: Images_test/1118.jpg    \n",
            "  inflating: Images_test/1119.jpg    \n",
            "  inflating: Images_test/1120.jpg    \n",
            "  inflating: Images_test/1121.jpg    \n",
            "  inflating: Images_test/1122.jpg    \n",
            "  inflating: Images_test/1123.jpg    \n",
            "  inflating: Images_test/1124.jpg    \n",
            "  inflating: Images_test/1125.jpg    \n",
            "  inflating: Images_test/1126.jpg    \n",
            "  inflating: Images_test/1127.jpg    \n",
            "  inflating: Images_test/1128.jpg    \n",
            "  inflating: Images_test/1129.jpg    \n",
            "  inflating: Images_test/1130.jpg    \n",
            "  inflating: Images_test/1131.jpg    \n",
            "  inflating: Images_test/1132.jpg    \n",
            "  inflating: Images_test/1133.jpg    \n",
            "  inflating: Images_test/1134.jpg    \n",
            "  inflating: Images_test/1135.jpg    \n",
            "  inflating: Images_test/1136.jpg    \n",
            "  inflating: Images_test/1137.jpg    \n",
            "  inflating: Images_test/1138.jpg    \n",
            "  inflating: Images_test/1139.jpg    \n",
            "  inflating: Images_test/1140.jpg    \n",
            "  inflating: Images_test/2000.jpg    \n",
            "  inflating: Images_test/2001.jpg    \n",
            "  inflating: Images_test/2002.jpg    \n",
            "  inflating: Images_test/2003.jpg    \n",
            "  inflating: Images_test/2004.jpg    \n",
            "  inflating: Images_test/2005.jpg    \n",
            "  inflating: Images_test/2006.jpg    \n",
            "  inflating: Images_test/2007.jpg    \n",
            "  inflating: Images_test/2008.jpg    \n",
            "  inflating: Images_test/2009.jpg    \n",
            "  inflating: Images_test/2010.jpg    \n",
            "  inflating: Images_test/2011.jpg    \n",
            "  inflating: Images_test/2012.jpg    \n",
            "  inflating: Images_test/2013.jpg    \n",
            "  inflating: Images_test/2014.jpg    \n",
            "  inflating: Images_test/2015.jpg    \n",
            "  inflating: Images_test/2016.jpg    \n",
            "  inflating: Images_test/2017.jpg    \n",
            "  inflating: Images_test/2018.jpg    \n",
            "  inflating: Images_test/2019.jpg    \n",
            "  inflating: Images_test/2020.jpg    \n",
            "  inflating: Images_test/2021.jpg    \n",
            "  inflating: Images_test/2022.jpg    \n",
            "  inflating: Images_test/2023.jpg    \n",
            "  inflating: Images_test/2024.jpg    \n",
            "  inflating: Images_test/2025.jpg    \n",
            "  inflating: Images_test/2026.jpg    \n",
            "  inflating: Images_test/2027.jpg    \n",
            "  inflating: Images_test/2028.jpg    \n",
            "  inflating: Images_test/2029.jpg    \n",
            "  inflating: Images_test/2030.jpg    \n",
            "  inflating: Images_test/2031.jpg    \n",
            "  inflating: Images_test/2032.jpg    \n",
            "  inflating: Images_test/2033.jpg    \n",
            "  inflating: Images_test/2034.jpg    \n",
            "  inflating: Images_test/2035.jpg    \n",
            "  inflating: Images_test/2036.jpg    \n",
            "  inflating: Images_test/2037.jpg    \n",
            "  inflating: Images_test/2038.jpg    \n",
            "  inflating: Images_test/2039.jpg    \n",
            "  inflating: Images_test/2040.jpg    \n",
            "  inflating: Images_test/2200.jpg    \n",
            "  inflating: Images_test/2201.jpg    \n",
            "  inflating: Images_test/2202.jpg    \n",
            "  inflating: Images_test/2203.jpg    \n",
            "  inflating: Images_test/2204.jpg    \n",
            "  inflating: Images_test/2205.jpg    \n",
            "  inflating: Images_test/2206.jpg    \n",
            "  inflating: Images_test/2207.jpg    \n",
            "  inflating: Images_test/2208.jpg    \n",
            "  inflating: Images_test/2209.jpg    \n",
            "  inflating: Images_test/2210.jpg    \n",
            "  inflating: Images_test/2211.jpg    \n",
            "  inflating: Images_test/2212.jpg    \n",
            "  inflating: Images_test/2213.jpg    \n",
            "  inflating: Images_test/2214.jpg    \n",
            "  inflating: Images_test/2215.jpg    \n",
            "  inflating: Images_test/2216.jpg    \n",
            "  inflating: Images_test/2217.jpg    \n",
            "  inflating: Images_test/2218.jpg    \n",
            "  inflating: Images_test/2219.jpg    \n",
            "  inflating: Images_test/2220.jpg    \n",
            "  inflating: Images_test/2221.jpg    \n",
            "  inflating: Images_test/2222.jpg    \n",
            "  inflating: Images_test/2223.jpg    \n",
            "  inflating: Images_test/2224.jpg    \n",
            "  inflating: Images_test/2225.jpg    \n",
            "  inflating: Images_test/2226.jpg    \n",
            "  inflating: Images_test/2227.jpg    \n",
            "  inflating: Images_test/2228.jpg    \n",
            "  inflating: Images_test/2229.jpg    \n",
            "  inflating: Images_test/2230.jpg    \n",
            "  inflating: Images_test/2231.jpg    \n",
            "  inflating: Images_test/2232.jpg    \n",
            "  inflating: Images_test/2233.jpg    \n",
            "  inflating: Images_test/2234.jpg    \n",
            "  inflating: Images_test/2235.jpg    \n",
            "  inflating: Images_test/2236.jpg    \n",
            "  inflating: Images_test/2237.jpg    \n",
            "  inflating: Images_test/2238.jpg    \n",
            "  inflating: Images_test/2239.jpg    \n",
            "  inflating: Images_test/2240.jpg    \n"
          ],
          "name": "stdout"
        }
      ]
    },
    {
      "cell_type": "code",
      "metadata": {
        "id": "fg-E_pAhCnUC",
        "colab_type": "code",
        "colab": {
          "base_uri": "https://localhost:8080/",
          "height": 51
        },
        "outputId": "5f27f0ee-af77-4865-8b2e-697c52ed501f"
      },
      "source": [
        "!ls"
      ],
      "execution_count": 13,
      "outputs": [
        {
          "output_type": "stream",
          "text": [
            "Images\t     Images_test.zip  sample_data\t     test.csv\n",
            "Images_test  Images.zip       Sample_submission.csv  train.csv\n"
          ],
          "name": "stdout"
        }
      ]
    },
    {
      "cell_type": "code",
      "metadata": {
        "id": "DqZoqc23C3cG",
        "colab_type": "code",
        "colab": {}
      },
      "source": [
        "import os\n",
        "folder=os.listdir('Images')"
      ],
      "execution_count": 0,
      "outputs": []
    },
    {
      "cell_type": "code",
      "metadata": {
        "id": "hEfnmdaGEMc0",
        "colab_type": "code",
        "colab": {
          "base_uri": "https://localhost:8080/",
          "height": 285
        },
        "outputId": "e80015d0-1f5a-450c-8b14-8ac87c93a8d7"
      },
      "source": [
        "import matplotlib.pyplot as pl\n",
        "\n",
        "\n",
        "img=image.load_img(\"Images/393.jpg\",target_size=(100,100))\n",
        "X=image.img_to_array(img)/255.0\n",
        "plt.imshow(X)"
      ],
      "execution_count": 18,
      "outputs": [
        {
          "output_type": "execute_result",
          "data": {
            "text/plain": [
              "<matplotlib.image.AxesImage at 0x7f7e0de27f60>"
            ]
          },
          "metadata": {
            "tags": []
          },
          "execution_count": 18
        },
        {
          "output_type": "display_data",
          "data": {
            "image/png": "[encoded data removed]",
            "text/plain": [
              "<Figure size 432x288 with 1 Axes>"
            ]
          },
          "metadata": {
            "tags": []
          }
        }
      ]
    },
    {
      "cell_type": "code",
      "metadata": {
        "id": "Ve6rkmBXINDE",
        "colab_type": "code",
        "colab": {}
      },
      "source": [
        "import csv\n",
        "with open('train.csv', mode='r') as infile:\n",
        "    reader = csv.reader(infile)\n",
        "    with open('coors_new.csv', mode='w') as outfile:\n",
        "        writer = csv.writer(outfile)\n",
        "        mydict = {rows[0]:rows[1] for rows in reader}"
      ],
      "execution_count": 0,
      "outputs": []
    },
    {
      "cell_type": "code",
      "metadata": {
        "id": "1z7rUiKMIaCJ",
        "colab_type": "code",
        "colab": {
          "base_uri": "https://localhost:8080/",
          "height": 34
        },
        "outputId": "02685deb-0bb6-40a4-d1e3-a699f7250e80"
      },
      "source": [
        "print(mydict['296.jpg'])"
      ],
      "execution_count": 36,
      "outputs": [
        {
          "output_type": "stream",
          "text": [
            "Pikachu\n"
          ],
          "name": "stdout"
        }
      ]
    },
    {
      "cell_type": "code",
      "metadata": {
        "id": "D4PMJPScIkZ2",
        "colab_type": "code",
        "colab": {}
      },
      "source": [
        "image_data=[]\n",
        "labels=[]\n",
        "\n",
        "label_id={\n",
        "    'Pikachu':0,\n",
        "    'Bulbasaur' : 1,\n",
        "    'Charmander' : 2\n",
        "}"
      ],
      "execution_count": 0,
      "outputs": []
    },
    {
      "cell_type": "code",
      "metadata": {
        "id": "kjd4hcXdFepC",
        "colab_type": "code",
        "colab": {
          "base_uri": "https://localhost:8080/",
          "height": 71
        },
        "outputId": "dd8fe8cb-6125-4d43-8d57-a2680ab85734"
      },
      "source": [
        "import os\n",
        "cnt=0\n",
        "for f in folder:\n",
        "  path=\"Images/\"+f\n",
        "  img=image.load_img(os.path.join(\"Images\",f),target_size=(100,100))\n",
        "  X=image.img_to_array(img)/255.0\n",
        "  image_data.append(X)\n",
        "  labels.append(label_id[mydict[f]])"
      ],
      "execution_count": 40,
      "outputs": [
        {
          "output_type": "stream",
          "text": [
            "/usr/local/lib/python3.6/dist-packages/PIL/Image.py:914: UserWarning: Palette images with Transparency   expressed in bytes should be converted to RGBA images\n",
            "  'to RGBA images')\n"
          ],
          "name": "stderr"
        }
      ]
    },
    {
      "cell_type": "code",
      "metadata": {
        "id": "RZLdzvRmIjMK",
        "colab_type": "code",
        "colab": {}
      },
      "source": [
        "import numpy as np\n",
        "X_train=np.array(image_data)\n",
        "Y_train=np.array(labels)"
      ],
      "execution_count": 0,
      "outputs": []
    },
    {
      "cell_type": "code",
      "metadata": {
        "id": "ihGWV-p-Ju0e",
        "colab_type": "code",
        "colab": {
          "base_uri": "https://localhost:8080/",
          "height": 34
        },
        "outputId": "f975e590-3a43-4b0a-ce82-fdb8d4123648"
      },
      "source": [
        "print(X_train.shape,Y_train.shape)"
      ],
      "execution_count": 43,
      "outputs": [
        {
          "output_type": "stream",
          "text": [
            "(304, 100, 100, 3) (304,)\n"
          ],
          "name": "stdout"
        }
      ]
    },
    {
      "cell_type": "code",
      "metadata": {
        "id": "ThA4KsMGJ05v",
        "colab_type": "code",
        "colab": {}
      },
      "source": [
        "from keras.utils import np_utils\n",
        "Y_train=np_utils.to_categorical(Y_train)"
      ],
      "execution_count": 0,
      "outputs": []
    },
    {
      "cell_type": "code",
      "metadata": {
        "id": "wL6D3yflKQI7",
        "colab_type": "code",
        "colab": {
          "base_uri": "https://localhost:8080/",
          "height": 34
        },
        "outputId": "8573d7ee-addd-4b26-9e43-8fb153c22f8a"
      },
      "source": [
        "print(X_train.shape,Y_train.shape)"
      ],
      "execution_count": 45,
      "outputs": [
        {
          "output_type": "stream",
          "text": [
            "(304, 100, 100, 3) (304, 3)\n"
          ],
          "name": "stdout"
        }
      ]
    },
    {
      "cell_type": "code",
      "metadata": {
        "id": "Je-SNN0-C-fx",
        "colab_type": "code",
        "colab": {
          "base_uri": "https://localhost:8080/",
          "height": 493
        },
        "outputId": "22d56197-c4fe-44e0-ec6d-8a5d8f54f0c9"
      },
      "source": [
        "model=Sequential()\n",
        "\n",
        "model.add(Conv2D(32,(3,3), activation='relu',input_shape=(100,100,3)))\n",
        "model.add(MaxPooling2D(2,2))\n",
        "model.add(Conv2D(64,(3,3), activation='relu',input_shape=(100,100,3)))\n",
        "model.add(MaxPooling2D(2,2))\n",
        "model.add(Conv2D(64,(3,3), activation='relu',input_shape=(100,100,3)))\n",
        "model.add(MaxPooling2D(2,2))\n",
        "model.add(Flatten())\n",
        "model.add(Dense(64,activation='relu'))\n",
        "model.add(Dense(32,activation='relu'))\n",
        "model.add(Dense(3,activation='softmax'))\n",
        "model.summary()\n",
        "\n"
      ],
      "execution_count": 51,
      "outputs": [
        {
          "output_type": "stream",
          "text": [
            "Model: \"sequential_2\"\n",
            "_________________________________________________________________\n",
            "Layer (type)                 Output Shape              Param #   \n",
            "=================================================================\n",
            "conv2d_4 (Conv2D)            (None, 98, 98, 32)        896       \n",
            "_________________________________________________________________\n",
            "max_pooling2d_4 (MaxPooling2 (None, 49, 49, 32)        0         \n",
            "_________________________________________________________________\n",
            "conv2d_5 (Conv2D)            (None, 47, 47, 64)        18496     \n",
            "_________________________________________________________________\n",
            "max_pooling2d_5 (MaxPooling2 (None, 23, 23, 64)        0         \n",
            "_________________________________________________________________\n",
            "conv2d_6 (Conv2D)            (None, 21, 21, 64)        36928     \n",
            "_________________________________________________________________\n",
            "max_pooling2d_6 (MaxPooling2 (None, 10, 10, 64)        0         \n",
            "_________________________________________________________________\n",
            "flatten_2 (Flatten)          (None, 6400)              0         \n",
            "_________________________________________________________________\n",
            "dense_4 (Dense)              (None, 64)                409664    \n",
            "_________________________________________________________________\n",
            "dense_5 (Dense)              (None, 32)                2080      \n",
            "_________________________________________________________________\n",
            "dense_6 (Dense)              (None, 3)                 99        \n",
            "=================================================================\n",
            "Total params: 468,163\n",
            "Trainable params: 468,163\n",
            "Non-trainable params: 0\n",
            "_________________________________________________________________\n"
          ],
          "name": "stdout"
        }
      ]
    },
    {
      "cell_type": "code",
      "metadata": {
        "id": "Yx-aeFXNKN44",
        "colab_type": "code",
        "colab": {}
      },
      "source": [
        "model.compile(optimizer='adam', loss='categorical_crossentropy', metrics=['accuracy'])"
      ],
      "execution_count": 0,
      "outputs": []
    },
    {
      "cell_type": "code",
      "metadata": {
        "id": "wK9BONoPLdzh",
        "colab_type": "code",
        "colab": {
          "base_uri": "https://localhost:8080/",
          "height": 462
        },
        "outputId": "a2d61a69-5417-4676-9981-0e4c6137c096"
      },
      "source": [
        "hist=model.fit(X_train,Y_train,epochs=12,validation_split=0.1,batch_size=16)"
      ],
      "execution_count": 53,
      "outputs": [
        {
          "output_type": "stream",
          "text": [
            "Train on 273 samples, validate on 31 samples\n",
            "Epoch 1/12\n",
            "273/273 [==============================] - 1s 3ms/step - loss: 0.8262 - acc: 0.6227 - val_loss: 0.7453 - val_acc: 0.6774\n",
            "Epoch 2/12\n",
            "273/273 [==============================] - 0s 1ms/step - loss: 0.3585 - acc: 0.8278 - val_loss: 0.4503 - val_acc: 0.8065\n",
            "Epoch 3/12\n",
            "273/273 [==============================] - 0s 1ms/step - loss: 0.2071 - acc: 0.9341 - val_loss: 0.4308 - val_acc: 0.8065\n",
            "Epoch 4/12\n",
            "273/273 [==============================] - 0s 1ms/step - loss: 0.1838 - acc: 0.9341 - val_loss: 0.2515 - val_acc: 0.8710\n",
            "Epoch 5/12\n",
            "273/273 [==============================] - 0s 1ms/step - loss: 0.3445 - acc: 0.8718 - val_loss: 0.3583 - val_acc: 0.8387\n",
            "Epoch 6/12\n",
            "273/273 [==============================] - 0s 1ms/step - loss: 0.2400 - acc: 0.9341 - val_loss: 0.4508 - val_acc: 0.8387\n",
            "Epoch 7/12\n",
            "273/273 [==============================] - 0s 1ms/step - loss: 0.0848 - acc: 0.9780 - val_loss: 0.7861 - val_acc: 0.7097\n",
            "Epoch 8/12\n",
            "273/273 [==============================] - 0s 1ms/step - loss: 0.1621 - acc: 0.9487 - val_loss: 0.3729 - val_acc: 0.8065\n",
            "Epoch 9/12\n",
            "273/273 [==============================] - 0s 1ms/step - loss: 0.0738 - acc: 0.9817 - val_loss: 0.5648 - val_acc: 0.8065\n",
            "Epoch 10/12\n",
            "273/273 [==============================] - 0s 1ms/step - loss: 0.1111 - acc: 0.9560 - val_loss: 0.5065 - val_acc: 0.8710\n",
            "Epoch 11/12\n",
            "273/273 [==============================] - 0s 1ms/step - loss: 0.0762 - acc: 0.9670 - val_loss: 0.3304 - val_acc: 0.8387\n",
            "Epoch 12/12\n",
            "273/273 [==============================] - 0s 1ms/step - loss: 0.0293 - acc: 0.9890 - val_loss: 0.2759 - val_acc: 0.9032\n"
          ],
          "name": "stdout"
        }
      ]
    },
    {
      "cell_type": "code",
      "metadata": {
        "id": "U-kqrSX_Lohv",
        "colab_type": "code",
        "colab": {}
      },
      "source": [
        "testfolder=os.listdir('Images_test')"
      ],
      "execution_count": 0,
      "outputs": []
    },
    {
      "cell_type": "code",
      "metadata": {
        "id": "FKU2QaM1NGdQ",
        "colab_type": "code",
        "colab": {}
      },
      "source": [
        "test_data=[]"
      ],
      "execution_count": 0,
      "outputs": []
    },
    {
      "cell_type": "code",
      "metadata": {
        "id": "56V3OQOJMPzC",
        "colab_type": "code",
        "colab": {}
      },
      "source": [
        "for f in testfolder:\n",
        "  img=image.load_img(os.path.join(\"Images_test\",f),target_size=(100,100))\n",
        "  X=image.img_to_array(img)/255.0\n",
        "  test_data.append(X)"
      ],
      "execution_count": 0,
      "outputs": []
    },
    {
      "cell_type": "code",
      "metadata": {
        "id": "olgDuVUqMf0l",
        "colab_type": "code",
        "colab": {
          "base_uri": "https://localhost:8080/",
          "height": 34
        },
        "outputId": "049f2f2e-db59-4a39-8cbc-1776f0f9b62c"
      },
      "source": [
        "X_test=np.array(test_data)\n",
        "print(X_test.shape)"
      ],
      "execution_count": 60,
      "outputs": [
        {
          "output_type": "stream",
          "text": [
            "(123, 100, 100, 3)\n"
          ],
          "name": "stdout"
        }
      ]
    },
    {
      "cell_type": "code",
      "metadata": {
        "id": "aCri-p4KNb1s",
        "colab_type": "code",
        "colab": {}
      },
      "source": [
        "Y_test=model.predict(X_test)"
      ],
      "execution_count": 0,
      "outputs": []
    },
    {
      "cell_type": "code",
      "metadata": {
        "id": "1HKnZZsnNiTJ",
        "colab_type": "code",
        "colab": {
          "base_uri": "https://localhost:8080/",
          "height": 34
        },
        "outputId": "dcf0f91d-4c70-435a-a9c4-440376fa23c0"
      },
      "source": [
        "print(Y_test.shape)"
      ],
      "execution_count": 63,
      "outputs": [
        {
          "output_type": "stream",
          "text": [
            "(123, 3)\n"
          ],
          "name": "stdout"
        }
      ]
    },
    {
      "cell_type": "code",
      "metadata": {
        "id": "MBHIxRkGNkZX",
        "colab_type": "code",
        "colab": {
          "base_uri": "https://localhost:8080/",
          "height": 34
        },
        "outputId": "477c6d59-9c57-488b-f7b8-661689abfce0"
      },
      "source": [
        "print(Y_test[0])"
      ],
      "execution_count": 64,
      "outputs": [
        {
          "output_type": "stream",
          "text": [
            "[9.9269426e-01 8.0876889e-05 7.2249006e-03]\n"
          ],
          "name": "stdout"
        }
      ]
    },
    {
      "cell_type": "code",
      "metadata": {
        "id": "b8p7-MWQOB-2",
        "colab_type": "code",
        "colab": {}
      },
      "source": [
        "ans=[]\n",
        "for i in range(Y_test.shape[0]):\n",
        "  ans.append(np.argmax(Y_test[i]))\n"
      ],
      "execution_count": 0,
      "outputs": []
    },
    {
      "cell_type": "code",
      "metadata": {
        "id": "MbyP84nQOP9l",
        "colab_type": "code",
        "colab": {
          "base_uri": "https://localhost:8080/",
          "height": 54
        },
        "outputId": "d3c4cb42-01b4-476f-8f5a-163652c7ae76"
      },
      "source": [
        "print(ans)"
      ],
      "execution_count": 74,
      "outputs": [
        {
          "output_type": "stream",
          "text": [
            "[0, 2, 1, 1, 0, 1, 1, 2, 1, 2, 0, 0, 0, 0, 0, 1, 2, 0, 0, 0, 1, 0, 0, 0, 1, 2, 1, 2, 1, 2, 0, 0, 1, 1, 2, 1, 2, 2, 0, 2, 0, 1, 0, 2, 1, 2, 1, 1, 1, 2, 0, 2, 1, 0, 2, 0, 0, 1, 1, 2, 1, 0, 0, 1, 1, 0, 2, 1, 1, 0, 0, 2, 1, 2, 0, 0, 2, 2, 0, 2, 2, 2, 2, 0, 0, 1, 2, 2, 2, 1, 2, 1, 1, 2, 1, 2, 1, 2, 1, 1, 1, 1, 1, 2, 1, 0, 0, 1, 0, 2, 0, 2, 0, 0, 1, 2, 0, 1, 2, 2, 2, 0, 0]\n"
          ],
          "name": "stdout"
        }
      ]
    },
    {
      "cell_type": "code",
      "metadata": {
        "id": "89NpvM3AOTbq",
        "colab_type": "code",
        "colab": {}
      },
      "source": [
        "headers=[]\n",
        "for f in testfolder:\n",
        "  headers.append(f)"
      ],
      "execution_count": 0,
      "outputs": []
    },
    {
      "cell_type": "code",
      "metadata": {
        "id": "48_2bXUeOzyc",
        "colab_type": "code",
        "colab": {
          "base_uri": "https://localhost:8080/",
          "height": 51
        },
        "outputId": "d0084e44-711d-42a3-de90-aa228805b991"
      },
      "source": [
        "model.evaluate(X_test,Y_test)"
      ],
      "execution_count": 71,
      "outputs": [
        {
          "output_type": "stream",
          "text": [
            "123/123 [==============================] - 0s 376us/step\n"
          ],
          "name": "stdout"
        },
        {
          "output_type": "execute_result",
          "data": {
            "text/plain": [
              "[0.06586342856166809, 1.0]"
            ]
          },
          "metadata": {
            "tags": []
          },
          "execution_count": 71
        }
      ]
    },
    {
      "cell_type": "code",
      "metadata": {
        "id": "LU_gkkbjOhTy",
        "colab_type": "code",
        "colab": {}
      },
      "source": [
        "import pandas as pd\n",
        "dict={\"ImageId\" : headers , \"NameOfPokemon\" : ans }\n",
        "df = pd.DataFrame(dict)  \n",
        "df.to_csv('predict_pokemon.csv',index_label=None,index=False)"
      ],
      "execution_count": 0,
      "outputs": []
    },
    {
      "cell_type": "code",
      "metadata": {
        "id": "QIR-JEuRQyEH",
        "colab_type": "code",
        "colab": {
          "base_uri": "https://localhost:8080/",
          "height": 68
        },
        "outputId": "11216574-c78e-4dc7-f6d0-083d0a59a199"
      },
      "source": [
        "!ls"
      ],
      "execution_count": 77,
      "outputs": [
        {
          "output_type": "stream",
          "text": [
            "coors_new.csv  Images_test.zip\t    sample_data\t\t   train.csv\n",
            "Images\t       Images.zip\t    Sample_submission.csv\n",
            "Images_test    predict_pokemon.csv  test.csv\n"
          ],
          "name": "stdout"
        }
      ]
    },
    {
      "cell_type": "code",
      "metadata": {
        "id": "H1aDWPEoQ0O6",
        "colab_type": "code",
        "colab": {
          "base_uri": "https://localhost:8080/",
          "height": 306
        },
        "outputId": "b49f68d1-c653-4f9b-a3fb-645a64a62704"
      },
      "source": [
        "files.download('predict_pokemon.csv')"
      ],
      "execution_count": 78,
      "outputs": [
        {
          "output_type": "error",
          "ename": "MessageError",
          "evalue": "ignored",
          "traceback": [
            "\u001b[0;31m---------------------------------------------------------------------------\u001b[0m",
            "\u001b[0;31mMessageError\u001b[0m                              Traceback (most recent call last)",
            "\u001b[0;32m<ipython-input-78-425dbff8c990>\u001b[0m in \u001b[0;36m<module>\u001b[0;34m()\u001b[0m\n\u001b[0;32m----> 1\u001b[0;31m \u001b[0mfiles\u001b[0m\u001b[0;34m.\u001b[0m\u001b[0mdownload\u001b[0m\u001b[0;34m(\u001b[0m\u001b[0;34m'predict_pokemon.csv'\u001b[0m\u001b[0;34m)\u001b[0m\u001b[0;34m\u001b[0m\u001b[0;34m\u001b[0m\u001b[0m\n\u001b[0m",
            "\u001b[0;32m/usr/local/lib/python3.6/dist-packages/google/colab/files.py\u001b[0m in \u001b[0;36mdownload\u001b[0;34m(filename)\u001b[0m\n\u001b[1;32m    176\u001b[0m       \u001b[0;34m'port'\u001b[0m\u001b[0;34m:\u001b[0m \u001b[0mport\u001b[0m\u001b[0;34m,\u001b[0m\u001b[0;34m\u001b[0m\u001b[0;34m\u001b[0m\u001b[0m\n\u001b[1;32m    177\u001b[0m       \u001b[0;34m'path'\u001b[0m\u001b[0;34m:\u001b[0m \u001b[0m_os\u001b[0m\u001b[0;34m.\u001b[0m\u001b[0mpath\u001b[0m\u001b[0;34m.\u001b[0m\u001b[0mabspath\u001b[0m\u001b[0;34m(\u001b[0m\u001b[0mfilename\u001b[0m\u001b[0;34m)\u001b[0m\u001b[0;34m,\u001b[0m\u001b[0;34m\u001b[0m\u001b[0;34m\u001b[0m\u001b[0m\n\u001b[0;32m--> 178\u001b[0;31m       \u001b[0;34m'name'\u001b[0m\u001b[0;34m:\u001b[0m \u001b[0m_os\u001b[0m\u001b[0;34m.\u001b[0m\u001b[0mpath\u001b[0m\u001b[0;34m.\u001b[0m\u001b[0mbasename\u001b[0m\u001b[0;34m(\u001b[0m\u001b[0mfilename\u001b[0m\u001b[0;34m)\u001b[0m\u001b[0;34m,\u001b[0m\u001b[0;34m\u001b[0m\u001b[0;34m\u001b[0m\u001b[0m\n\u001b[0m\u001b[1;32m    179\u001b[0m   })\n",
            "\u001b[0;32m/usr/local/lib/python3.6/dist-packages/google/colab/output/_js.py\u001b[0m in \u001b[0;36meval_js\u001b[0;34m(script, ignore_result)\u001b[0m\n\u001b[1;32m     37\u001b[0m   \u001b[0;32mif\u001b[0m \u001b[0mignore_result\u001b[0m\u001b[0;34m:\u001b[0m\u001b[0;34m\u001b[0m\u001b[0;34m\u001b[0m\u001b[0m\n\u001b[1;32m     38\u001b[0m     \u001b[0;32mreturn\u001b[0m\u001b[0;34m\u001b[0m\u001b[0;34m\u001b[0m\u001b[0m\n\u001b[0;32m---> 39\u001b[0;31m   \u001b[0;32mreturn\u001b[0m \u001b[0m_message\u001b[0m\u001b[0;34m.\u001b[0m\u001b[0mread_reply_from_input\u001b[0m\u001b[0;34m(\u001b[0m\u001b[0mrequest_id\u001b[0m\u001b[0;34m)\u001b[0m\u001b[0;34m\u001b[0m\u001b[0;34m\u001b[0m\u001b[0m\n\u001b[0m\u001b[1;32m     40\u001b[0m \u001b[0;34m\u001b[0m\u001b[0m\n\u001b[1;32m     41\u001b[0m \u001b[0;34m\u001b[0m\u001b[0m\n",
            "\u001b[0;32m/usr/local/lib/python3.6/dist-packages/google/colab/_message.py\u001b[0m in \u001b[0;36mread_reply_from_input\u001b[0;34m(message_id, timeout_sec)\u001b[0m\n\u001b[1;32m    104\u001b[0m         reply.get('colab_msg_id') == message_id):\n\u001b[1;32m    105\u001b[0m       \u001b[0;32mif\u001b[0m \u001b[0;34m'error'\u001b[0m \u001b[0;32min\u001b[0m \u001b[0mreply\u001b[0m\u001b[0;34m:\u001b[0m\u001b[0;34m\u001b[0m\u001b[0;34m\u001b[0m\u001b[0m\n\u001b[0;32m--> 106\u001b[0;31m         \u001b[0;32mraise\u001b[0m \u001b[0mMessageError\u001b[0m\u001b[0;34m(\u001b[0m\u001b[0mreply\u001b[0m\u001b[0;34m[\u001b[0m\u001b[0;34m'error'\u001b[0m\u001b[0;34m]\u001b[0m\u001b[0;34m)\u001b[0m\u001b[0;34m\u001b[0m\u001b[0;34m\u001b[0m\u001b[0m\n\u001b[0m\u001b[1;32m    107\u001b[0m       \u001b[0;32mreturn\u001b[0m \u001b[0mreply\u001b[0m\u001b[0;34m.\u001b[0m\u001b[0mget\u001b[0m\u001b[0;34m(\u001b[0m\u001b[0;34m'data'\u001b[0m\u001b[0;34m,\u001b[0m \u001b[0;32mNone\u001b[0m\u001b[0;34m)\u001b[0m\u001b[0;34m\u001b[0m\u001b[0;34m\u001b[0m\u001b[0m\n\u001b[1;32m    108\u001b[0m \u001b[0;34m\u001b[0m\u001b[0m\n",
            "\u001b[0;31mMessageError\u001b[0m: TypeError: Failed to fetch"
          ]
        }
      ]
    },
    {
      "cell_type": "code",
      "metadata": {
        "id": "DBV9RMo2RaOM",
        "colab_type": "code",
        "colab": {
          "base_uri": "https://localhost:8080/",
          "height": 359
        },
        "outputId": "7ea1baa5-bd9e-43bb-8cf0-5230f4423915"
      },
      "source": [
        "df=pd.read_csv('predict_pokemon.csv')\n",
        "df.head(n=10)"
      ],
      "execution_count": 79,
      "outputs": [
        {
          "output_type": "execute_result",
          "data": {
            "text/html": [
              "<div>\n",
              "<style scoped>\n",
              "    .dataframe tbody tr th:only-of-type {\n",
              "        vertical-align: middle;\n",
              "    }\n",
              "\n",
              "    .dataframe tbody tr th {\n",
              "        vertical-align: top;\n",
              "    }\n",
              "\n",
              "    .dataframe thead th {\n",
              "        text-align: right;\n",
              "    }\n",
              "</style>\n",
              "<table border=\"1\" class=\"dataframe\">\n",
              "  <thead>\n",
              "    <tr style=\"text-align: right;\">\n",
              "      <th></th>\n",
              "      <th>ImageId</th>\n",
              "      <th>NameOfPokemon</th>\n",
              "    </tr>\n",
              "  </thead>\n",
              "  <tbody>\n",
              "    <tr>\n",
              "      <th>0</th>\n",
              "      <td>2013.jpg</td>\n",
              "      <td>0</td>\n",
              "    </tr>\n",
              "    <tr>\n",
              "      <th>1</th>\n",
              "      <td>2228.jpg</td>\n",
              "      <td>2</td>\n",
              "    </tr>\n",
              "    <tr>\n",
              "      <th>2</th>\n",
              "      <td>1124.jpg</td>\n",
              "      <td>1</td>\n",
              "    </tr>\n",
              "    <tr>\n",
              "      <th>3</th>\n",
              "      <td>1122.jpg</td>\n",
              "      <td>1</td>\n",
              "    </tr>\n",
              "    <tr>\n",
              "      <th>4</th>\n",
              "      <td>2019.jpg</td>\n",
              "      <td>0</td>\n",
              "    </tr>\n",
              "    <tr>\n",
              "      <th>5</th>\n",
              "      <td>1104.jpg</td>\n",
              "      <td>1</td>\n",
              "    </tr>\n",
              "    <tr>\n",
              "      <th>6</th>\n",
              "      <td>1108.jpg</td>\n",
              "      <td>1</td>\n",
              "    </tr>\n",
              "    <tr>\n",
              "      <th>7</th>\n",
              "      <td>2224.jpg</td>\n",
              "      <td>2</td>\n",
              "    </tr>\n",
              "    <tr>\n",
              "      <th>8</th>\n",
              "      <td>1131.jpg</td>\n",
              "      <td>1</td>\n",
              "    </tr>\n",
              "    <tr>\n",
              "      <th>9</th>\n",
              "      <td>2216.jpg</td>\n",
              "      <td>2</td>\n",
              "    </tr>\n",
              "  </tbody>\n",
              "</table>\n",
              "</div>"
            ],
            "text/plain": [
              "    ImageId  NameOfPokemon\n",
              "0  2013.jpg              0\n",
              "1  2228.jpg              2\n",
              "2  1124.jpg              1\n",
              "3  1122.jpg              1\n",
              "4  2019.jpg              0\n",
              "5  1104.jpg              1\n",
              "6  1108.jpg              1\n",
              "7  2224.jpg              2\n",
              "8  1131.jpg              1\n",
              "9  2216.jpg              2"
            ]
          },
          "metadata": {
            "tags": []
          },
          "execution_count": 79
        }
      ]
    },
    {
      "cell_type": "code",
      "metadata": {
        "id": "dQPh87qdRpLp",
        "colab_type": "code",
        "colab": {}
      },
      "source": [
        "rev_label_id={\n",
        "    0:'Pikachu',\n",
        "    1: 'Bulbasaur',\n",
        "    2: 'Charmander'\n",
        "}\n",
        "\n",
        "for i in range(len(ans)):\n",
        "  ans[i]=rev_label_id[ans[i]]"
      ],
      "execution_count": 0,
      "outputs": []
    },
    {
      "cell_type": "code",
      "metadata": {
        "id": "B5s4mXhmSVW9",
        "colab_type": "code",
        "colab": {
          "base_uri": "https://localhost:8080/",
          "height": 54
        },
        "outputId": "1e08a78c-4335-4865-fefc-dfd5506391ab"
      },
      "source": [
        "print(ans)"
      ],
      "execution_count": 83,
      "outputs": [
        {
          "output_type": "stream",
          "text": [
            "['Pikachu', 'Charmander', 'Bulbasaur', 'Bulbasaur', 'Pikachu', 'Bulbasaur', 'Bulbasaur', 'Charmander', 'Bulbasaur', 'Charmander', 'Pikachu', 'Pikachu', 'Pikachu', 'Pikachu', 'Pikachu', 'Bulbasaur', 'Charmander', 'Pikachu', 'Pikachu', 'Pikachu', 'Bulbasaur', 'Pikachu', 'Pikachu', 'Pikachu', 'Bulbasaur', 'Charmander', 'Bulbasaur', 'Charmander', 'Bulbasaur', 'Charmander', 'Pikachu', 'Pikachu', 'Bulbasaur', 'Bulbasaur', 'Charmander', 'Bulbasaur', 'Charmander', 'Charmander', 'Pikachu', 'Charmander', 'Pikachu', 'Bulbasaur', 'Pikachu', 'Charmander', 'Bulbasaur', 'Charmander', 'Bulbasaur', 'Bulbasaur', 'Bulbasaur', 'Charmander', 'Pikachu', 'Charmander', 'Bulbasaur', 'Pikachu', 'Charmander', 'Pikachu', 'Pikachu', 'Bulbasaur', 'Bulbasaur', 'Charmander', 'Bulbasaur', 'Pikachu', 'Pikachu', 'Bulbasaur', 'Bulbasaur', 'Pikachu', 'Charmander', 'Bulbasaur', 'Bulbasaur', 'Pikachu', 'Pikachu', 'Charmander', 'Bulbasaur', 'Charmander', 'Pikachu', 'Pikachu', 'Charmander', 'Charmander', 'Pikachu', 'Charmander', 'Charmander', 'Charmander', 'Charmander', 'Pikachu', 'Pikachu', 'Bulbasaur', 'Charmander', 'Charmander', 'Charmander', 'Bulbasaur', 'Charmander', 'Bulbasaur', 'Bulbasaur', 'Charmander', 'Bulbasaur', 'Charmander', 'Bulbasaur', 'Charmander', 'Bulbasaur', 'Bulbasaur', 'Bulbasaur', 'Bulbasaur', 'Bulbasaur', 'Charmander', 'Bulbasaur', 'Pikachu', 'Pikachu', 'Bulbasaur', 'Pikachu', 'Charmander', 'Pikachu', 'Charmander', 'Pikachu', 'Pikachu', 'Bulbasaur', 'Charmander', 'Pikachu', 'Bulbasaur', 'Charmander', 'Charmander', 'Charmander', 'Pikachu', 'Pikachu']\n"
          ],
          "name": "stdout"
        }
      ]
    },
    {
      "cell_type": "code",
      "metadata": {
        "id": "8uhit-azSpbl",
        "colab_type": "code",
        "colab": {}
      },
      "source": [
        "import pandas as pd\n",
        "dict={\"ImageId\" : headers , \"NameOfPokemon\" : ans }\n",
        "df = pd.DataFrame(dict)  \n",
        "df.to_csv('predict_pokemon_final.csv',index_label=None,index=False)"
      ],
      "execution_count": 0,
      "outputs": []
    },
    {
      "cell_type": "code",
      "metadata": {
        "id": "ZmtOxCklSuIy",
        "colab_type": "code",
        "colab": {}
      },
      "source": [
        "import csv\n",
        "with open('predict_pokemon_final.csv', mode='r') as infile:\n",
        "    reader = csv.reader(infile)\n",
        "    with open('coors_new.csv', mode='w') as outfile:\n",
        "        writer = csv.writer(outfile)\n",
        "        finaldict = {rows[0]:rows[1] for rows in reader}"
      ],
      "execution_count": 0,
      "outputs": []
    },
    {
      "cell_type": "code",
      "metadata": {
        "id": "06hImw5IUq3p",
        "colab_type": "code",
        "colab": {
          "base_uri": "https://localhost:8080/",
          "height": 34
        },
        "outputId": "9190f71c-cf94-42b7-a2ba-3739c9cb772a"
      },
      "source": [
        "dfxtest=pd.read_csv(\"test.csv\")\n",
        "x_=dfxtest.values\n",
        "print(x_.shape)"
      ],
      "execution_count": 122,
      "outputs": [
        {
          "output_type": "stream",
          "text": [
            "(123, 1)\n"
          ],
          "name": "stdout"
        }
      ]
    },
    {
      "cell_type": "code",
      "metadata": {
        "id": "-Cm8s6b_VK7I",
        "colab_type": "code",
        "colab": {
          "base_uri": "https://localhost:8080/",
          "height": 51
        },
        "outputId": "f94bfd88-3125-4217-c883-08535acdcb9d"
      },
      "source": [
        "print(x_.shape)\n",
        "print(type(x_))"
      ],
      "execution_count": 123,
      "outputs": [
        {
          "output_type": "stream",
          "text": [
            "(123, 1)\n",
            "<class 'numpy.ndarray'>\n"
          ],
          "name": "stdout"
        }
      ]
    },
    {
      "cell_type": "code",
      "metadata": {
        "id": "5hG2Ke1TVNfR",
        "colab_type": "code",
        "colab": {
          "base_uri": "https://localhost:8080/",
          "height": 1000
        },
        "outputId": "8432b395-8ed0-4413-8b61-e3a0248b9531"
      },
      "source": [
        "fans2=[]\n",
        "x_=x_[:,0]\n",
        "for i in x_:\n",
        "  print(i)\n",
        "  fans2.append(finaldict[i])\n"
      ],
      "execution_count": 124,
      "outputs": [
        {
          "output_type": "stream",
          "text": [
            "1106.jpg\n",
            "2236.jpg\n",
            "1131.jpg\n",
            "2221.jpg\n",
            "2011.jpg\n",
            "2030.jpg\n",
            "2035.jpg\n",
            "1110.jpg\n",
            "1104.jpg\n",
            "2217.jpg\n",
            "1111.jpg\n",
            "1100.jpg\n",
            "1112.jpg\n",
            "1138.jpg\n",
            "2238.jpg\n",
            "2009.jpg\n",
            "2225.jpg\n",
            "2240.jpg\n",
            "2020.jpg\n",
            "2209.jpg\n",
            "2029.jpg\n",
            "1114.jpg\n",
            "2201.jpg\n",
            "1118.jpg\n",
            "2025.jpg\n",
            "2202.jpg\n",
            "1117.jpg\n",
            "1119.jpg\n",
            "2000.jpg\n",
            "2007.jpg\n",
            "2039.jpg\n",
            "2017.jpg\n",
            "2215.jpg\n",
            "1120.jpg\n",
            "2006.jpg\n",
            "1116.jpg\n",
            "1128.jpg\n",
            "1125.jpg\n",
            "2203.jpg\n",
            "1133.jpg\n",
            "1137.jpg\n",
            "2220.jpg\n",
            "2012.jpg\n",
            "2224.jpg\n",
            "2206.jpg\n",
            "1122.jpg\n",
            "2223.jpg\n",
            "1102.jpg\n",
            "2234.jpg\n",
            "2216.jpg\n",
            "2016.jpg\n",
            "2227.jpg\n",
            "2013.jpg\n",
            "1113.jpg\n",
            "2204.jpg\n",
            "1101.jpg\n",
            "2208.jpg\n",
            "2024.jpg\n",
            "2031.jpg\n",
            "2222.jpg\n",
            "2211.jpg\n",
            "2033.jpg\n",
            "2213.jpg\n",
            "2231.jpg\n",
            "2001.jpg\n",
            "2040.jpg\n",
            "1127.jpg\n",
            "2023.jpg\n",
            "2015.jpg\n",
            "1121.jpg\n",
            "2232.jpg\n",
            "1139.jpg\n",
            "1103.jpg\n",
            "2018.jpg\n",
            "2233.jpg\n",
            "2212.jpg\n",
            "2210.jpg\n",
            "2228.jpg\n",
            "2026.jpg\n",
            "1132.jpg\n",
            "2003.jpg\n",
            "1129.jpg\n",
            "2214.jpg\n",
            "1123.jpg\n",
            "2004.jpg\n",
            "1136.jpg\n",
            "1140.jpg\n",
            "2226.jpg\n",
            "2230.jpg\n",
            "1135.jpg\n",
            "1105.jpg\n",
            "2237.jpg\n",
            "1109.jpg\n",
            "2022.jpg\n",
            "2005.jpg\n",
            "2218.jpg\n",
            "2036.jpg\n",
            "1115.jpg\n",
            "2032.jpg\n",
            "2200.jpg\n",
            "1134.jpg\n",
            "1130.jpg\n",
            "1107.jpg\n",
            "2034.jpg\n",
            "2205.jpg\n",
            "2008.jpg\n",
            "2027.jpg\n",
            "2028.jpg\n",
            "2239.jpg\n",
            "1108.jpg\n",
            "2010.jpg\n",
            "2229.jpg\n",
            "2219.jpg\n",
            "2019.jpg\n",
            "2207.jpg\n",
            "2002.jpg\n",
            "2037.jpg\n",
            "2038.jpg\n",
            "1124.jpg\n",
            "2014.jpg\n",
            "2235.jpg\n",
            "1126.jpg\n",
            "2021.jpg\n"
          ],
          "name": "stdout"
        }
      ]
    },
    {
      "cell_type": "code",
      "metadata": {
        "id": "lOYOMHw9Vjlq",
        "colab_type": "code",
        "colab": {
          "base_uri": "https://localhost:8080/",
          "height": 54
        },
        "outputId": "dda794a6-9cc9-424a-f98e-94aeeebdafe9"
      },
      "source": [
        "print(fans2)"
      ],
      "execution_count": 126,
      "outputs": [
        {
          "output_type": "stream",
          "text": [
            "['Bulbasaur', 'Charmander', 'Bulbasaur', 'Charmander', 'Pikachu', 'Pikachu', 'Pikachu', 'Bulbasaur', 'Bulbasaur', 'Charmander', 'Bulbasaur', 'Bulbasaur', 'Bulbasaur', 'Bulbasaur', 'Charmander', 'Bulbasaur', 'Charmander', 'Charmander', 'Pikachu', 'Charmander', 'Pikachu', 'Bulbasaur', 'Charmander', 'Bulbasaur', 'Pikachu', 'Charmander', 'Bulbasaur', 'Bulbasaur', 'Pikachu', 'Pikachu', 'Pikachu', 'Pikachu', 'Charmander', 'Bulbasaur', 'Pikachu', 'Bulbasaur', 'Bulbasaur', 'Bulbasaur', 'Charmander', 'Bulbasaur', 'Bulbasaur', 'Charmander', 'Pikachu', 'Charmander', 'Charmander', 'Bulbasaur', 'Charmander', 'Bulbasaur', 'Charmander', 'Charmander', 'Pikachu', 'Charmander', 'Pikachu', 'Bulbasaur', 'Charmander', 'Bulbasaur', 'Charmander', 'Pikachu', 'Pikachu', 'Charmander', 'Charmander', 'Pikachu', 'Charmander', 'Bulbasaur', 'Pikachu', 'Pikachu', 'Bulbasaur', 'Pikachu', 'Pikachu', 'Bulbasaur', 'Charmander', 'Pikachu', 'Bulbasaur', 'Pikachu', 'Charmander', 'Charmander', 'Charmander', 'Charmander', 'Pikachu', 'Bulbasaur', 'Pikachu', 'Bulbasaur', 'Charmander', 'Bulbasaur', 'Pikachu', 'Bulbasaur', 'Bulbasaur', 'Charmander', 'Charmander', 'Bulbasaur', 'Bulbasaur', 'Charmander', 'Bulbasaur', 'Pikachu', 'Pikachu', 'Charmander', 'Pikachu', 'Bulbasaur', 'Pikachu', 'Charmander', 'Bulbasaur', 'Bulbasaur', 'Bulbasaur', 'Pikachu', 'Charmander', 'Pikachu', 'Pikachu', 'Pikachu', 'Charmander', 'Bulbasaur', 'Pikachu', 'Charmander', 'Charmander', 'Pikachu', 'Charmander', 'Pikachu', 'Pikachu', 'Pikachu', 'Bulbasaur', 'Pikachu', 'Charmander', 'Bulbasaur', 'Pikachu']\n"
          ],
          "name": "stdout"
        }
      ]
    },
    {
      "cell_type": "code",
      "metadata": {
        "id": "lydCXvloVq3-",
        "colab_type": "code",
        "colab": {}
      },
      "source": [
        "import pandas as pd\n",
        "dict={\"ImageId\" : x_ , \"NameOfPokemon\" : fans2 }\n",
        "df = pd.DataFrame(dict)  \n",
        "df.to_csv('predict_pokemon_final2.csv',index_label=None,index=False)"
      ],
      "execution_count": 0,
      "outputs": []
    },
    {
      "cell_type": "code",
      "metadata": {
        "id": "uKaUg0C7Yyit",
        "colab_type": "code",
        "colab": {}
      },
      "source": [
        ""
      ],
      "execution_count": 0,
      "outputs": []
    }
  ]
}