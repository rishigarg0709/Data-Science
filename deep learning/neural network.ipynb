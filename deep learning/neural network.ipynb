{
 "cells": [
  {
   "cell_type": "code",
   "execution_count": 1,
   "metadata": {},
   "outputs": [],
   "source": [
    "import pandas as pd\n",
    "import numpy as np\n",
    "from matplotlib import pyplot as plt\n",
    "from sklearn.datasets import make_moons,make_circles,make_classification"
   ]
  },
  {
   "cell_type": "code",
   "execution_count": 33,
   "metadata": {},
   "outputs": [],
   "source": [
    "def softmax(a):\n",
    "    ea = np.exp(a)\n",
    "    return ea/np.sum(ea,axis=1,keepdims=True)"
   ]
  },
  {
   "cell_type": "code",
   "execution_count": 67,
   "metadata": {},
   "outputs": [],
   "source": [
    "class neural_network:\n",
    "    def __init__(self,input_size,layers,output_size):\n",
    "        np.random.seed(0)\n",
    "        model = {}\n",
    "        model['W1'] = np.random.randn(input_size,layers[0]) \n",
    "        model['b1'] = np.zeros((1,layers[0]))\n",
    "        \n",
    "        model['W2'] = np.random.randn(layers[0],layers[1])\n",
    "        model['b2'] = np.zeros((1,layers[1]))\n",
    "        \n",
    "        model['W3'] = np.random.randn(layers[1],output_size)\n",
    "        model['b3'] = np.zeros((1,output_size))\n",
    "        \n",
    "        self.model = model\n",
    "        \n",
    "    def forward(self,X):\n",
    "        \n",
    "        \n",
    "        z1=np.dot(X,self.model[\"W1\"])+self.model[\"b1\"]\n",
    "        a1=np.tanh(z1)\n",
    "        \n",
    "        z2=np.dot(a1,self.model[\"W2\"])+self.model[\"b2\"]\n",
    "        a2=np.tanh(z2)\n",
    "        \n",
    "        z3=np.dot(a2,self.model[\"W3\"])+self.model[\"b3\"]\n",
    "        y_=softmax(z3)\n",
    "        \n",
    "        self.activation_outputs = (a1,a2,y_)\n",
    "        \n",
    "        return y_\n",
    "    \n",
    "    def backward(self,X,Y,lrate=0.001):\n",
    "        \n",
    "        W1,W2,W3 = self.model['W1'],self.model['W2'],self.model['W3']\n",
    "        b1,b2,b3 = self.model['b1'],self.model['b2'],self.model['b3']\n",
    "        a1,a2,Y_ = self.activation_outputs\n",
    "        \n",
    "        delta3=Y_-Y\n",
    "        dellw3=np.dot(a2.T,delta3)\n",
    "        dellb3=np.sum(delta3,axis=0)\n",
    "        \n",
    "        delta2=np.dot(delta3,W3.T)*(1-np.square(a2))\n",
    "        dellw2=np.dot(a1.T,delta2)\n",
    "        dellb2=np.sum(delta2,axis=0)\n",
    "        \n",
    "        delta1=np.dot(delta2,W2.T)*(1-np.square(a1))\n",
    "        dellw1=np.dot(X.T,delta1)\n",
    "        dellb1=np.sum(delta1,axis=0)\n",
    "        \n",
    "        self.model['W1'] -= lrate*dellw1\n",
    "        self.model['W2'] -= lrate*dellw2\n",
    "        self.model['W3'] -= lrate*dellw3\n",
    "        \n",
    "        self.model['b1'] -= lrate*dellb1\n",
    "        self.model['b2'] -= lrate*dellb2\n",
    "        self.model['b3'] -= lrate*dellb3\n",
    "        \n",
    "    def predict(self,x):\n",
    "        y_out = self.forward(x)\n",
    "        return np.argmax(y_out,axis=1)  "
   ]
  },
  {
   "cell_type": "code",
   "execution_count": 68,
   "metadata": {},
   "outputs": [],
   "source": [
    "model = neural_network(input_size=2,layers=[4,3],output_size=2)"
   ]
  },
  {
   "cell_type": "code",
   "execution_count": 69,
   "metadata": {},
   "outputs": [],
   "source": [
    "def one_hot(y,depth):\n",
    "    m = y.shape[0]\n",
    "    y_oht = np.zeros((m, depth))\n",
    "    y_oht[np.arange(m), y] = 1\n",
    "    return y_oht"
   ]
  },
  {
   "cell_type": "code",
   "execution_count": 70,
   "metadata": {},
   "outputs": [],
   "source": [
    "def train(X,Y,model,epocks=500):\n",
    "\n",
    "    \n",
    "    classes = len(np.unique(Y))\n",
    "    Y_OHT = one_hot(Y,classes)\n",
    "    \n",
    "    for i in range(epocks):\n",
    "        model.forward(X)\n",
    "        model.backward(X,Y_OHT)\n"
   ]
  },
  {
   "cell_type": "code",
   "execution_count": 71,
   "metadata": {},
   "outputs": [],
   "source": [
    "X,Y = make_moons(n_samples=500,noise=0.2,random_state=1)"
   ]
  },
  {
   "cell_type": "code",
   "execution_count": 72,
   "metadata": {},
   "outputs": [],
   "source": [
    "train(X,Y,model)"
   ]
  },
  {
   "cell_type": "code",
   "execution_count": 81,
   "metadata": {},
   "outputs": [
    {
     "name": "stdout",
     "output_type": "stream",
     "text": [
      "Training Accuracy 97.4000\n"
     ]
    }
   ],
   "source": [
    "outputs = model.predict(X)\n",
    "training_accuracy = np.sum(outputs==Y)/Y.shape[0]\n",
    "print(\"Training Accuracy %.4f\"%(training_accuracy*100))"
   ]
  },
  {
   "cell_type": "code",
   "execution_count": 95,
   "metadata": {},
   "outputs": [],
   "source": [
    "def plot_decision_boundary(model, X, y,cmap=plt.cm.jet):\n",
    "    \"\"\"\n",
    "    Given a model(a function) and a set of points(X), corresponding labels(y), scatter the points in X with color coding\n",
    "    according to y. Also use the model to predict the label at grid points to get the region for each label, and thus the \n",
    "    descion boundary.\n",
    "    Example usage:\n",
    "    say we have a function predict(x,other params) which makes 0/1 prediction for point x and we want to plot\n",
    "    train set then call as:\n",
    "    plot_decision_boundary(lambda x:predict(x,other params),X_train,Y_train)\n",
    "    params(3): \n",
    "        model : a function which expectes the point to make 0/1 label prediction\n",
    "        X : a (mx2) numpy array with the points\n",
    "        y : a (mx1) numpy array with labels\n",
    "    outputs(None)\n",
    "    \"\"\"\n",
    "    # Set min and max values and give it some padding\n",
    "    x_min, x_max = X[:, 0].min() - 1, X[:, 0].max() + 1\n",
    "    y_min, y_max = X[:, 1].min() - 1, X[:, 1].max() + 1\n",
    "    h = 0.01\n",
    "    # Generate a grid of points with distance h between them\n",
    "    xx, yy = np.meshgrid(np.arange(x_min, x_max, h), np.arange(y_min, y_max, h))\n",
    "    # Predict the function value for the whole grid\n",
    "    Z = model(np.c_[xx.ravel(), yy.ravel()])\n",
    "    Z = Z.reshape(xx.shape)\n",
    "    # Plot the contour and training examples\n",
    "    plt.contourf(xx, yy, Z, cmap=plt.cm.Spectral)\n",
    "    plt.ylabel('x2')\n",
    "    plt.xlabel('x1')\n",
    "    plt.style.use(\"seaborn\")\n",
    "    plt.scatter(X[:, 0], X[:, 1], c=y, cmap=plt.cm.jet)"
   ]
  },
  {
   "cell_type": "code",
   "execution_count": 96,
   "metadata": {},
   "outputs": [
    {
     "data": {
      "image/png": "[encoded data removed]",
      "text/plain": [
       "<Figure size 432x288 with 1 Axes>"
      ]
     },
     "metadata": {
      "needs_background": "light"
     },
     "output_type": "display_data"
    }
   ],
   "source": [
    "plot_decision_boundary(lambda x:model.predict(x),X,Y)"
   ]
  },
  {
   "cell_type": "code",
   "execution_count": null,
   "metadata": {},
   "outputs": [],
   "source": []
  }
 ],
 "metadata": {
  "kernelspec": {
   "display_name": "Python 3",
   "language": "python",
   "name": "python3"
  },
  "language_info": {
   "codemirror_mode": {
    "name": "ipython",
    "version": 3
   },
   "file_extension": ".py",
   "mimetype": "text/x-python",
   "name": "python",
   "nbconvert_exporter": "python",
   "pygments_lexer": "ipython3",
   "version": "3.7.3"
  }
 },
 "nbformat": 4,
 "nbformat_minor": 2
}
